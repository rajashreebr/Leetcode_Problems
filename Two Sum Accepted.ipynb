{
 "cells": [
  {
   "cell_type": "code",
   "execution_count": null,
   "metadata": {},
   "outputs": [],
   "source": [
    "class Solution(object):\n",
    "    def twoSum(self, nums, target):\n",
    "\n",
    "        for i in range(0, len(nums)-1):\n",
    "             for j in range(i + 1, len(nums)):\n",
    "                  if(nums[i] + nums[j] == target):\n",
    "                      return [i, j]"
   ]
  }
 ],
 "metadata": {
  "language_info": {
   "name": "python"
  },
  "orig_nbformat": 4
 },
 "nbformat": 4,
 "nbformat_minor": 2
}
